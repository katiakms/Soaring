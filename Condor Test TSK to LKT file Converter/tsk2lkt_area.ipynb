{
 "cells": [
  {
   "cell_type": "code",
   "execution_count": 1,
   "metadata": {},
   "outputs": [],
   "source": [
    "import os\n",
    "import promptlib"
   ]
  },
  {
   "cell_type": "code",
   "execution_count": 2,
   "metadata": {},
   "outputs": [],
   "source": [
    "prompter = promptlib.Files()\n",
    "\n",
    "file = prompter.file()\n",
    "\n",
    "inf = r\"C:\\Users\\ktmai\\Documents\\AERO\\Oswaldo\\voo_a_vela\\template_lkt_area.txt\""
   ]
  },
  {
   "cell_type": "code",
   "execution_count": 25,
   "metadata": {},
   "outputs": [],
   "source": [
    "outf = 'C:\\\\' + file[3:-4] + '_out.lkt'\n",
    "\n",
    "with open(outf, 'a') as f1:\n",
    "    if (os.stat(outf).st_size == 0) == True:\n",
    "        for line in open(inf):        \n",
    "            f1.write(line)"
   ]
  },
  {
   "cell_type": "code",
   "execution_count": 26,
   "metadata": {},
   "outputs": [],
   "source": [
    "f = open(file)\n",
    "\n",
    "name_vec = []\n",
    "lat_vec = []\n",
    "long_vec = []\n",
    "alt_vec = []\n",
    "radius_vec = []\n",
    "type_vec = []\n",
    "fai_finish_height = []\n",
    "start_max_height = []\n",
    "start_max_height_ref = []\n",
    "\n",
    "line = f.readline()\n",
    "\n",
    "while line:   \n",
    "    if 'finish_min_height=\"' in line:\n",
    "        inner_str = line.split('finish_min_height=')[len(line.split('finish_min_height')) -2 ].split('\"')[1]\n",
    "        fai_finish_height.append('min-height=\"'+inner_str)\n",
    "        \n",
    "    if 'start_max_height=\"' in line:\n",
    "        inner_str = line.split('start_max_height=')[len(line.split('start_max_height')) -2 ].split('\"')[1]\n",
    "        start_max_height.append('max-height=\"'+inner_str)\n",
    "        \n",
    "    if 'start_max_height=\"' in line:\n",
    "        inner_str = line.split('start_max_height_ref=')[len(line.split('start_max_height_ref')) -1 ].split('\"')[1]\n",
    "        start_max_height_ref.append('height-ref=\"'+inner_str)   \n",
    "        \n",
    "    if 'length=\"' in line:\n",
    "        inner_str = line.split('length=')[len(line.split('length')) -1 ].split('\"')[1]\n",
    "        radius = int(float(inner_str)/2)\n",
    "        radius_vec.append('radius=\"'+ str(radius))\n",
    "        \n",
    "    if '<ObservationZone radius=\"' in line:\n",
    "        inner_str = line.split('radius=')[len(line.split('radius')) -1 ].split('\"')[1]\n",
    "        radius_vec.append('radius=\"'+ inner_str)\n",
    "        \n",
    "    if '\" type=\"' in line:\n",
    "        inner_str = line.split('type=')[len(line.split('type')) -1 ].split('\"')[1]\n",
    "        if inner_str == 'Cylinder':\n",
    "            inner_str = 'circle'\n",
    "        type_vec.append('type=\"'+ inner_str.lower())\n",
    "        \n",
    "    if 'name=\"' in line:\n",
    "        inner_str = line.split('name=')[len(line.split('name')) -1 ].split('\"')[1]\n",
    "        name_vec.append('name=\"'+inner_str)\n",
    "    \n",
    "    if 'latitude=\"' in line:\n",
    "        inner_str = line.split('latitude=')[len(line.split('latitude')) -1 ].split('\"')[1]\n",
    "        lat_vec.append('latitude=\"'+inner_str)\n",
    "    \n",
    "    if 'longitude=\"' in line:\n",
    "        inner_str = line.split('longitude=')[len(line.split('longitude')) -1 ].split('\"')[1]\n",
    "        long_vec.append('longitude=\"'+inner_str)\n",
    "        \n",
    "    if 'altitude=\"' in line:\n",
    "        inner_str = line.split('altitude=')[len(line.split('altitude')) -1 ].split('\"')[1]\n",
    "        alt_vec.append('altitude=\"'+inner_str)\n",
    "        \n",
    "    line = f.readline()\n",
    "    "
   ]
  },
  {
   "cell_type": "code",
   "execution_count": 30,
   "metadata": {},
   "outputs": [
    {
     "name": "stdout",
     "output_type": "stream",
     "text": [
      "a\n"
     ]
    }
   ],
   "source": [
    "f = open(inf)\n",
    "fout = open(outf, \"wt\")\n",
    "\n",
    "line = f.readline()\n",
    "\n",
    "string1 =  '<point idx=\"0\" name=\"\" '\n",
    "string2 = '<point name=\"'\n",
    "string6 = '<start max-height'\n",
    "string7 = '<finish fai-height=\"false\" min-height=\"\" />'\n",
    "\n",
    "while line:\n",
    "    if string6 in line:\n",
    "        line.strip()\n",
    "        fout.write('\\t\\t\\t\\t\\t\\t<start ' + start_max_height[0] + '\" max-height-margin=\"0\" max-speed=\"0\" max-speed-margin=\"0\"' + start_max_height_ref[0] +'\" />\\n')\n",
    "    elif string7 in line:\n",
    "        fout.write(line.replace(string7 , '<finish fai-height=\"false\" '+ fai_finish_height[0] + '\" />'))\n",
    "    elif string1 in line:\n",
    "        for i in range(0,len(name_vec)):\n",
    "            fout.write('\\t\\t\\t\\t' + '<point idx=\"' + str(i) + '\" ' + name_vec[i] + '\" ' + type_vec[i+1] + '\" ' + radius_vec[i] + '\"  lock=\"false\" offset-radius=\"0.0\" offset-radial=\"0.0\"/>\\n')\n",
    "    elif string2 in line:\n",
    "        for j in range(0,len(name_vec)):\n",
    "            fout.write('\\t\\t\\t\\t<point '+ name_vec[j] +'\" ' + lat_vec[j] + '\" '+ long_vec[j] +'\" '+ alt_vec[j] +'\" comment=\"Alt. limits=0-1000\" flags=\"5\" format=\"2\" freq=\"123.500\" runwayLen=\"1400\" runwayDir=\"001\" style=\"5\"/>\\n')\n",
    "    else:\n",
    "        fout.write(line)\n",
    "    line = f.readline()\n",
    "            \n",
    "f.close()        \n",
    "fout.close()"
   ]
  },
  {
   "cell_type": "code",
   "execution_count": null,
   "metadata": {},
   "outputs": [],
   "source": []
  },
  {
   "cell_type": "code",
   "execution_count": null,
   "metadata": {},
   "outputs": [],
   "source": []
  }
 ],
 "metadata": {
  "kernelspec": {
   "display_name": "Python 3",
   "language": "python",
   "name": "python3"
  },
  "language_info": {
   "codemirror_mode": {
    "name": "ipython",
    "version": 3
   },
   "file_extension": ".py",
   "mimetype": "text/x-python",
   "name": "python",
   "nbconvert_exporter": "python",
   "pygments_lexer": "ipython3",
   "version": "3.8.5"
  }
 },
 "nbformat": 4,
 "nbformat_minor": 4
}
